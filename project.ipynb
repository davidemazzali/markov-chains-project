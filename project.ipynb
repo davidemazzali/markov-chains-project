{
 "cells": [
  {
   "cell_type": "code",
   "execution_count": 1,
   "metadata": {
    "collapsed": false,
    "pycharm": {
     "name": "#%%\n"
    }
   },
   "outputs": [],
   "source": [
    "import networkx as nx\n",
    "import numpy as np\n",
    "import pandas as pd\n",
    "\n",
    "from nx_utils import get_x_star, generate_observation_graph, get_node_label\n",
    "from metropolis import metropolis_algorithm, sample_from_unif\n",
    "from utils import estimate_quality, visualize_quality, sample_from_flip\n",
    "from pandas_utils import save_run_data\n",
    "import pandas as pd\n",
    "from visualization_utils import plot_average_over_runs\n",
    "from houdayer import houdayer_algorithm\n",
    "from tqdm.notebook import tqdm"
   ]
  },
  {
   "cell_type": "code",
   "execution_count": 2,
   "metadata": {
    "collapsed": true
   },
   "outputs": [],
   "source": [
    "# CONSTANTS\n",
    "d = 3\n",
    "r = 0.017\n",
    "N = 100\n",
    "n_runs = 100\n",
    "n_iters = 10000"
   ]
  },
  {
   "cell_type": "code",
   "execution_count": 3,
   "metadata": {
    "collapsed": false,
    "pycharm": {
     "name": "#%%\n"
    }
   },
   "outputs": [],
   "source": [
    "G, _ = generate_observation_graph(d, r, N)"
   ]
  },
  {
   "cell_type": "code",
   "execution_count": 4,
   "metadata": {
    "collapsed": false,
    "pycharm": {
     "name": "#%%\n"
    }
   },
   "outputs": [
    {
     "data": {
      "text/plain": "<Figure size 432x288 with 1 Axes>",
      "image/png": "[encoded data removed]"
     },
     "metadata": {},
     "output_type": "display_data"
    }
   ],
   "source": [
    "nx.draw(G, node_size=5)"
   ]
  },
  {
   "cell_type": "code",
   "execution_count": 5,
   "metadata": {
    "collapsed": false,
    "pycharm": {
     "name": "#%%\n"
    }
   },
   "outputs": [
    {
     "name": "stdout",
     "output_type": "stream",
     "text": [
      "Node 1 belongs to community -1\n"
     ]
    }
   ],
   "source": [
    "print(\"Node %d belongs to community %s\" % (1, get_node_label(G, 1)))\n",
    "\n"
   ]
  },
  {
   "cell_type": "code",
   "execution_count": null,
   "metadata": {
    "collapsed": false,
    "pycharm": {
     "name": "#%%\n",
     "is_executing": true
    }
   },
   "outputs": [
    {
     "name": "stdout",
     "output_type": "stream",
     "text": [
      "Quality of run 0: 0.96\n",
      "File not found, creating a new dataset...\n",
      "Quality of run 1: 0.98\n",
      "File found, adding the lines to the existent dataset...\n",
      "Quality of run 2: 0.88\n",
      "File found, adding the lines to the existent dataset...\n",
      "Quality of run 3: 0.98\n",
      "File found, adding the lines to the existent dataset...\n",
      "Quality of run 4: 0.88\n",
      "File found, adding the lines to the existent dataset...\n",
      "Quality of run 5: 0.62\n",
      "File found, adding the lines to the existent dataset...\n",
      "Quality of run 6: 0.86\n",
      "File found, adding the lines to the existent dataset...\n",
      "Quality of run 7: 0.94\n",
      "File found, adding the lines to the existent dataset...\n",
      "Quality of run 8: 0.36\n",
      "File found, adding the lines to the existent dataset...\n",
      "Quality of run 9: 0.44\n",
      "File found, adding the lines to the existent dataset...\n",
      "Quality of run 10: 0.98\n",
      "File found, adding the lines to the existent dataset...\n",
      "Quality of run 11: 0.94\n",
      "File found, adding the lines to the existent dataset...\n",
      "Quality of run 12: 0.96\n",
      "File found, adding the lines to the existent dataset...\n",
      "Quality of run 13: 0.94\n",
      "File found, adding the lines to the existent dataset...\n",
      "Quality of run 14: 0.92\n",
      "File found, adding the lines to the existent dataset...\n",
      "Quality of run 15: 0.06\n",
      "File found, adding the lines to the existent dataset...\n",
      "Quality of run 16: 0.02\n",
      "File found, adding the lines to the existent dataset...\n",
      "Quality of run 17: 0.16\n",
      "File found, adding the lines to the existent dataset...\n",
      "Quality of run 18: 0.96\n",
      "File found, adding the lines to the existent dataset...\n",
      "Quality of run 19: 0.98\n",
      "File found, adding the lines to the existent dataset...\n",
      "Quality of run 20: 0.94\n",
      "File found, adding the lines to the existent dataset...\n",
      "Quality of run 21: 0.90\n",
      "File found, adding the lines to the existent dataset...\n",
      "Quality of run 22: 0.92\n",
      "File found, adding the lines to the existent dataset...\n",
      "Quality of run 23: 0.74\n",
      "File found, adding the lines to the existent dataset...\n",
      "Quality of run 24: 0.86\n",
      "File found, adding the lines to the existent dataset...\n",
      "Quality of run 25: 0.94\n",
      "File found, adding the lines to the existent dataset...\n",
      "Quality of run 26: 0.94\n",
      "File found, adding the lines to the existent dataset...\n",
      "Quality of run 27: 0.92\n",
      "File found, adding the lines to the existent dataset...\n",
      "Quality of run 28: 0.96\n",
      "File found, adding the lines to the existent dataset...\n",
      "Quality of run 29: 0.90\n",
      "File found, adding the lines to the existent dataset...\n",
      "Quality of run 30: 0.84\n",
      "File found, adding the lines to the existent dataset...\n",
      "Quality of run 31: 0.96\n",
      "File found, adding the lines to the existent dataset...\n",
      "Quality of run 32: 0.92\n",
      "File found, adding the lines to the existent dataset...\n",
      "Quality of run 33: 0.22\n",
      "File found, adding the lines to the existent dataset...\n",
      "Quality of run 34: 0.40\n",
      "File found, adding the lines to the existent dataset...\n",
      "Quality of run 35: 0.98\n",
      "File found, adding the lines to the existent dataset...\n",
      "Quality of run 36: 0.98\n",
      "File found, adding the lines to the existent dataset...\n",
      "Quality of run 37: 0.94\n",
      "File found, adding the lines to the existent dataset...\n",
      "Quality of run 38: 0.86\n",
      "File found, adding the lines to the existent dataset...\n",
      "Quality of run 39: 0.96\n",
      "File found, adding the lines to the existent dataset...\n",
      "Quality of run 40: 0.44\n",
      "File found, adding the lines to the existent dataset...\n",
      "Quality of run 41: 0.98\n",
      "File found, adding the lines to the existent dataset...\n",
      "Quality of run 42: 0.94\n",
      "File found, adding the lines to the existent dataset...\n",
      "Quality of run 43: 0.78\n",
      "File found, adding the lines to the existent dataset...\n",
      "Quality of run 44: 0.98\n",
      "File found, adding the lines to the existent dataset...\n",
      "Quality of run 45: 0.94\n",
      "File found, adding the lines to the existent dataset...\n",
      "Quality of run 46: 0.98\n",
      "File found, adding the lines to the existent dataset...\n",
      "Quality of run 47: 0.66\n",
      "File found, adding the lines to the existent dataset...\n",
      "Quality of run 48: 1.00\n",
      "File found, adding the lines to the existent dataset...\n",
      "Quality of run 49: 0.92\n",
      "File found, adding the lines to the existent dataset...\n",
      "Quality of run 50: 0.92\n",
      "File found, adding the lines to the existent dataset...\n",
      "Quality of run 51: 1.00\n",
      "File found, adding the lines to the existent dataset...\n",
      "Quality of run 52: 0.92\n",
      "File found, adding the lines to the existent dataset...\n",
      "Quality of run 53: 0.94\n",
      "File found, adding the lines to the existent dataset...\n",
      "Quality of run 54: 0.92\n",
      "File found, adding the lines to the existent dataset...\n",
      "Quality of run 55: 0.94\n",
      "File found, adding the lines to the existent dataset...\n",
      "Quality of run 56: 0.92\n",
      "File found, adding the lines to the existent dataset...\n",
      "Quality of run 57: 0.86\n",
      "File found, adding the lines to the existent dataset...\n",
      "Quality of run 58: 0.86\n",
      "File found, adding the lines to the existent dataset...\n",
      "Quality of run 59: 0.96\n",
      "File found, adding the lines to the existent dataset...\n",
      "Quality of run 60: 0.98\n",
      "File found, adding the lines to the existent dataset...\n",
      "Quality of run 61: 0.94\n",
      "File found, adding the lines to the existent dataset...\n",
      "Quality of run 62: 0.98\n",
      "File found, adding the lines to the existent dataset...\n",
      "Quality of run 63: 0.90\n",
      "File found, adding the lines to the existent dataset...\n",
      "Quality of run 64: 0.96\n",
      "File found, adding the lines to the existent dataset...\n",
      "Quality of run 65: 0.96\n",
      "File found, adding the lines to the existent dataset...\n",
      "Quality of run 66: 0.88\n",
      "File found, adding the lines to the existent dataset...\n",
      "Quality of run 67: 0.06\n",
      "File found, adding the lines to the existent dataset...\n",
      "Quality of run 68: 0.86\n",
      "File found, adding the lines to the existent dataset...\n",
      "Quality of run 69: 0.94\n",
      "File found, adding the lines to the existent dataset...\n",
      "Quality of run 70: 0.90\n",
      "File found, adding the lines to the existent dataset...\n",
      "Quality of run 71: 0.98\n",
      "File found, adding the lines to the existent dataset...\n",
      "Quality of run 72: 1.00\n",
      "File found, adding the lines to the existent dataset...\n",
      "Quality of run 73: 0.88\n",
      "File found, adding the lines to the existent dataset...\n",
      "Quality of run 74: 0.70\n",
      "File found, adding the lines to the existent dataset...\n"
     ]
    }
   ],
   "source": [
    "\n",
    "qualities = []\n",
    "for run in range(n_runs):\n",
    "    G, G_np = generate_observation_graph(d, r, N)\n",
    "    x_star = get_x_star(G)\n",
    "    x, run_qualities = metropolis_algorithm(G, d, r, sample_from_flip, n_iters, x_star, G_np)\n",
    "    quality = estimate_quality(x, x_star)\n",
    "    qualities.append(quality)\n",
    "    print(\"Quality of run %d: %.2f\" % (run, quality))\n",
    "    df = save_run_data(file_name = 'gio_dataset', algorithm_name = 'metropolis', quality_list = run_qualities, d = d, r = r, N = N, task = 0)"
   ]
  },
  {
   "cell_type": "code",
   "execution_count": null,
   "metadata": {
    "collapsed": false,
    "pycharm": {
     "name": "#%%\n",
     "is_executing": true
    }
   },
   "outputs": [],
   "source": [
    "\n",
    "df = pd.read_csv('gio_dataset.csv')\n",
    "\n",
    "plot_average_over_runs(df, 0)"
   ]
  },
  {
   "cell_type": "code",
   "execution_count": null,
   "outputs": [],
   "source": [],
   "metadata": {
    "collapsed": false,
    "pycharm": {
     "name": "#%%\n",
     "is_executing": true
    }
   }
  }
 ],
 "metadata": {
  "interpreter": {
   "hash": "31f2aee4e71d21fbe5cf8b01ff0e069b9275f58929596ceb00d14d90e3e16cd6"
  },
  "kernelspec": {
   "name": "python3",
   "language": "python",
   "display_name": "Python 3 (ipykernel)"
  },
  "language_info": {
   "codemirror_mode": {
    "name": "ipython",
    "version": 2
   },
   "file_extension": ".py",
   "mimetype": "text/x-python",
   "name": "python",
   "nbconvert_exporter": "python",
   "pygments_lexer": "ipython2",
   "version": "3.8.10"
  }
 },
 "nbformat": 4,
 "nbformat_minor": 0
}