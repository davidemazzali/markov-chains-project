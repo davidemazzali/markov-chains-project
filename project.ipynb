{
 "cells": [
  {
   "cell_type": "code",
   "execution_count": 1,
   "metadata": {
    "collapsed": false,
    "pycharm": {
     "name": "#%%\n"
    }
   },
   "outputs": [],
   "source": [
    "import networkx as nx\n",
    "import numpy as np\n",
    "from nx_utils import get_x_star, generate_observation_graph, get_node_label\n",
    "from metropolis import metropolis_algorithm, sample_from_unif\n",
    "from utils import estimate_quality, visualize_quality, sample_from_flip\n",
    "from houdayer import houdayer_algorithm\n",
    "from tqdm.notebook import tqdm"
   ]
  },
  {
   "cell_type": "code",
   "execution_count": 2,
   "metadata": {
    "collapsed": true
   },
   "outputs": [],
   "source": [
    "# CONSTANTS\n",
    "d = 3\n",
    "r = 0.017\n",
    "N = 1000\n",
    "n_runs = 10\n",
    "n_iters = 100000"
   ]
  },
  {
   "cell_type": "code",
   "execution_count": null,
   "metadata": {
    "collapsed": false,
    "pycharm": {
     "name": "#%%\n",
     "is_executing": true
    }
   },
   "outputs": [
    {
     "data": {
      "text/plain": "  0%|          | 0/100000 [00:00<?, ?it/s]",
      "application/vnd.jupyter.widget-view+json": {
       "version_major": 2,
       "version_minor": 0,
       "model_id": "a9ccae23303f42998411c12599bb15fe"
      }
     },
     "metadata": {},
     "output_type": "display_data"
    }
   ],
   "source": [
    "qualities = []\n",
    "runs_qualities = []\n",
    "for run in range(n_runs):\n",
    "    G = generate_observation_graph(d, r, N)\n",
    "    x_star = get_x_star(G)\n",
    "    x, run_qualities = houdayer_algorithm(G, d, r, sample_from_flip, n_iters, x_star, houdayer_period=500, use_tqdm=True)\n",
    "    quality = estimate_quality(x, x_star)\n",
    "    qualities.append(quality)\n",
    "    runs_qualities.append(run_qualities)\n",
    "    print(\"Quality of run %d: %.2f\" % (run, quality))\n",
    "visualize_quality(qualities)"
   ]
  },
  {
   "cell_type": "code",
   "execution_count": null,
   "metadata": {
    "collapsed": false,
    "pycharm": {
     "name": "#%%\n",
     "is_executing": true
    }
   },
   "outputs": [],
   "source": []
  }
 ],
 "metadata": {
  "interpreter": {
   "hash": "31f2aee4e71d21fbe5cf8b01ff0e069b9275f58929596ceb00d14d90e3e16cd6"
  },
  "kernelspec": {
   "name": "pycharm-eba252db",
   "language": "python",
   "display_name": "PyCharm (EPFL)"
  },
  "language_info": {
   "codemirror_mode": {
    "name": "ipython",
    "version": 2
   },
   "file_extension": ".py",
   "mimetype": "text/x-python",
   "name": "python",
   "nbconvert_exporter": "python",
   "pygments_lexer": "ipython2",
   "version": "3.8.10"
  }
 },
 "nbformat": 4,
 "nbformat_minor": 0
}